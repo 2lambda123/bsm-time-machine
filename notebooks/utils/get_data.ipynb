{
 "cells": [
  {
   "cell_type": "markdown",
   "id": "3c66033f",
   "metadata": {},
   "source": [
    "A multipurpose notebook for requesting all types of historical data. It can request new data or update existing DFs without the need to re-inputting parameters. It will request data based on inputted (or deciphered from the filename, for updates) parameters such as bar_size, duration, include IV data, use regular trading hours, etc."
   ]
  },
  {
   "cell_type": "raw",
   "id": "373db9bc",
   "metadata": {},
   "source": [
    "for a complete list of valid bar size and duration combinations, see:\n",
    "https://interactivebrokers.github.io/tws-api/historical_limitations.html"
   ]
  },
  {
   "cell_type": "code",
   "execution_count": 2,
   "id": "7d2a298e",
   "metadata": {},
   "outputs": [],
   "source": [
    "import matplotlib.pyplot as plt\n",
    "import pandas_market_calendars as pmc\n",
    "import scipy.stats as stats\n",
    "%matplotlib inline\n",
    "import pandas as pd\n",
    "import numpy as np\n",
    "import math\n",
    "import re\n",
    "import warnings\n",
    "from datetime import datetime\n",
    "warnings.filterwarnings('ignore')\n",
    "pd.set_option(\"display.max_rows\", 50, \"display.max_columns\", 10)\n",
    "from ib_insync import *\n",
    "util.startLoop()"
   ]
  },
  {
   "cell_type": "code",
   "execution_count": 2,
   "id": "2e799e3e",
   "metadata": {},
   "outputs": [
    {
     "data": {
      "text/plain": [
       "<IB connected to 127.0.0.1:4002 clientId=2>"
      ]
     },
     "execution_count": 2,
     "metadata": {},
     "output_type": "execute_result"
    }
   ],
   "source": [
    "PORT = 4002  # or 7497\n",
    "ib = IB()\n",
    "ib.connect('127.0.0.1', PORT, clientId=2)"
   ]
  },
  {
   "cell_type": "code",
   "execution_count": 5,
   "id": "1a61c148",
   "metadata": {},
   "outputs": [],
   "source": [
    "is_update = False"
   ]
  },
  {
   "cell_type": "code",
   "execution_count": 6,
   "id": "06dfabb4",
   "metadata": {},
   "outputs": [],
   "source": [
    "if is_update:\n",
    "    recalculate_columns = True  # only for 1 day bars where customs columns are calculated.\n",
    "    file_name = '1day_spx_max_iv_rth.pkl'  # starts after ..dfs/ and should include .pkl. Only used for updates\n",
    "else:\n",
    "    # below is only used for original requests. It is irrelevant for updates.\n",
    "    underlying_symbol = 'SPX'\n",
    "    underlying_type = 'IND'  # STK or IND\n",
    "    underlying_exchange = 'CBOE' or 'SMART'\n",
    "    get_iv_data  = True  # !! This often reduces rows because IV data typically doesn't go as far back as price data!\n",
    "    use_vix = True  # only for SPX, if grabbing IV data for SPX, use the VIX index itself.\n",
    "    duration = 'MAX'  # can be: # S, # D, # W, # M, # Y or 'MAX' for all available data\n",
    "    bar_size = '1 min'  # can be: # min(s), # hr, # day, etc.\n",
    "    use_rth = True  # False is useful for analyzing massive price swings outside RTH."
   ]
  },
  {
   "cell_type": "code",
   "execution_count": 4,
   "id": "7a326971",
   "metadata": {},
   "outputs": [],
   "source": [
    "# load all the helper functions by running this cell\n",
    "\n",
    "def get_earliest_timestamp(underlying, vix=None) -> datetime:\n",
    "    # grab earliest stamp using:\n",
    "    # https://interactivebrokers.github.io/tws-api/head_timestamp.html#reqHeadTimeStamp\n",
    "    trade_earliest = ib.reqHeadTimeStamp(underlying, 'TRADES', use_rth)\n",
    "    if underlying_symbol == 'SPX' and get_iv_data and use_vix:\n",
    "        iv_earliest = ib.reqHeadTimeStamp(vix, 'TRADES', use_rth)\n",
    "    elif get_iv_data:\n",
    "        iv_earliest = ib.reqHeadTimeStamp(underlying, 'OPTION_IMPLIED_VOLATILITY', use_rth)\n",
    "    else:\n",
    "        return trade_earliest\n",
    "    return max(trade_earliest, iv_earliest)\n",
    "\n",
    "\n",
    "def calc_duration(earliest_timestamp) -> str:\n",
    "    # calculate a duration in years for which data will be requested based on the earliest timestamp\n",
    "    current = datetime.now().year\n",
    "    earliest = earliest_timestamp.year\n",
    "    return f'{(current - earliest) + 1} Y'\n",
    "\n",
    "\n",
    "def add_back_space(string):\n",
    "    return re.sub(r\"([0-9]+(\\.[0-9]+)?)\",r\" \\1 \", string).strip()\n",
    "\n",
    "\n",
    "def decipher_filename(filename) -> tuple:\n",
    "    if filename == '':\n",
    "        print('Enter a valid filename.')\n",
    "    filename = filename.split('.')[0]\n",
    "    output = filename.split('_')\n",
    "    output_length = len(output)\n",
    "    bar_size = add_back_space(output[0])\n",
    "    underlying_symbol = output[1].upper()\n",
    "    duration = add_back_space(output[2])\n",
    "    use_vix = False\n",
    "    if output_length >= 4:\n",
    "        if output[3] == 'iv':\n",
    "            get_iv_data = True\n",
    "            if underlying_symbol in indices:\n",
    "                use_vix = True\n",
    "        else:\n",
    "            get_iv_data = False\n",
    "    else:\n",
    "        get_iv_data = False\n",
    "    if output_length >= 5:\n",
    "        if output[4] == 'rth':\n",
    "            use_rth = True\n",
    "        else:\n",
    "            use_rth = False\n",
    "    else:\n",
    "        use_rth = False\n",
    "    if underlying_symbol in indices:\n",
    "        underlying_type = 'IND'\n",
    "        underlying_exchange = 'CBOE'\n",
    "    else:\n",
    "        underlying_type = 'STK'\n",
    "        underlying_exchange = 'SMART'\n",
    "\n",
    "    return (bar_size, underlying_symbol, underlying_type,\n",
    "            underlying_exchange, duration, get_iv_data, use_rth, use_vix)\n",
    "\n",
    "\n",
    "def get_missing_days(existing_df):\n",
    "    try:\n",
    "        last_known_date = existing_df.iloc[-1]['date'].date()\n",
    "    except AttributeError:\n",
    "        last_known_date = existing_df.iloc[-1]['date']\n",
    "    today = datetime.now().date()\n",
    "    days_missing = (today - last_known_date).days  # total days, not trading days\n",
    "    today = str(today).replace('-', '')\n",
    "    end_date_time = f\"{today} 24:00:00 EST\"\n",
    "    days_missing = f\"{days_missing} D\"\n",
    "    print(f'last date in df: {last_known_date}, today: {today} ({days_missing} days)')\n",
    "    return days_missing, end_date_time\n",
    "\n",
    "\n",
    "def recalculate_column_values(df):\n",
    "    df['prev_close'] = df['close'].shift(1)\n",
    "    df['iv_prev_close'] = df['iv_close'].shift(1)\n",
    "\n",
    "    # open-close movement\n",
    "    df['open_close'] = (df['close'] - df['open']) / df['open']  # former 'movement'; intraday movement\n",
    "    df['close_close'] = (df['prev_close'] - df['close']) / df['prev_close']  # interday movement\n",
    "    df['close_open'] = (df['open'] - df['prev_close']) / df['prev_close']  # overnight movement\n",
    "\n",
    "    df['iv_open_close'] = (df['iv_close'] - df['iv_open']) / df['iv_open']  # former 'movement'; intraday movement\n",
    "    df['iv_close_close'] = (df['iv_prev_close'] - df['iv_close']) / df['iv_prev_close']  # interday movement\n",
    "    df['iv_close_open'] = (df['iv_open'] - df['iv_prev_close']) / df['iv_prev_close']  # overnight movement\n",
    "\n",
    "    # realized vol taken from this formula: https://www.realvol.com/VolFormula.htm\n",
    "    df['real_vol'] = np.sqrt(252 * np.log(df['open'] / df['close']) ** 2)\n",
    "    df['previous_vol'] = df['real_vol'].shift(1)\n",
    "    df['max_vol'] = np.sqrt(252 * np.log(df['high'] / df['low']) ** 2)\n",
    "\n",
    "    df['max_up'] = (df['high'] - df['open']) / df['open']\n",
    "    df['max_down'] = (df['low'] - df['open']) / df['open']\n",
    "\n",
    "    df['peak_move'] = (((df['max_up'] > df['max_down'].abs()) * df['max_up']) + \n",
    "                       ((df['max_up'] <= df['max_down'].abs()) * df['max_down']))\n",
    "\n",
    "    df['day'] = df['date'].astype('datetime64[ns]').dt.dayofweek\n",
    "    return df\n",
    "\n",
    "def show(bar_size, underlying_symbol, underlying_type, underlying_exchange,\n",
    "         duration, get_iv_data, use_rth, use_vix, end_date_time=False, use_date_df=False):\n",
    "    print('----------------------------------')\n",
    "    print(f'bar_size:             {bar_size}')\n",
    "    print(f'underlying_symbol:    {underlying_symbol}')\n",
    "    print(f'underlying_type:      {underlying_type}')\n",
    "    print(f'underlying_exchange:  {underlying_exchange}')\n",
    "    print(f'duration:             {duration}')\n",
    "    print(f'get_iv_data:          {get_iv_data}')\n",
    "    print(f'use_rth:              {use_rth}')\n",
    "    print(f'use_vix:              {use_vix}')\n",
    "    print(f'end_date_time:        {end_date_time}')\n",
    "    print(f'use_date_df:          {use_date_df}')\n",
    "    print('----------------------------------')"
   ]
  },
  {
   "cell_type": "code",
   "execution_count": 66,
   "id": "9ed4f77e",
   "metadata": {},
   "outputs": [
    {
     "name": "stdout",
     "output_type": "stream",
     "text": [
      "<class 'pandas.core.frame.DataFrame'>\n",
      "Int64Index: 4096 entries, 0 to 4095\n",
      "Data columns (total 24 columns):\n",
      " #   Column          Non-Null Count  Dtype  \n",
      "---  ------          --------------  -----  \n",
      " 0   date            4096 non-null   object \n",
      " 1   open            4096 non-null   float64\n",
      " 2   high            4096 non-null   float64\n",
      " 3   low             4096 non-null   float64\n",
      " 4   close           4096 non-null   float64\n",
      " 5   iv_open         4096 non-null   float64\n",
      " 6   iv_high         4096 non-null   float64\n",
      " 7   iv_low          4096 non-null   float64\n",
      " 8   iv_close        4096 non-null   float64\n",
      " 9   prev_close      4095 non-null   float64\n",
      " 10  iv_prev_close   4095 non-null   float64\n",
      " 11  open_close      4096 non-null   float64\n",
      " 12  close_close     4095 non-null   float64\n",
      " 13  close_open      4095 non-null   float64\n",
      " 14  iv_open_close   4096 non-null   float64\n",
      " 15  iv_close_close  4095 non-null   float64\n",
      " 16  iv_close_open   4095 non-null   float64\n",
      " 17  real_vol        4096 non-null   float64\n",
      " 18  previous_vol    4095 non-null   float64\n",
      " 19  max_vol         4096 non-null   float64\n",
      " 20  max_up          4096 non-null   float64\n",
      " 21  max_down        4096 non-null   float64\n",
      " 22  peak_move       4096 non-null   float64\n",
      " 23  day             4096 non-null   int64  \n",
      "dtypes: float64(22), int64(1), object(1)\n",
      "memory usage: 800.0+ KB\n",
      "last date in df: 2022-02-01, today: 20220220 (19 D days)\n",
      "----------------------------------\n",
      "bar_size:             1 day\n",
      "underlying_symbol:    SPX\n",
      "underlying_type:      IND\n",
      "underlying_exchange:  CBOE\n",
      "duration:             19 D\n",
      "get_iv_data:          True\n",
      "use_rth:              True\n",
      "use_vix:              True\n",
      "duration:             19 D\n",
      "end_date_time:        20220220 24:00:00 EST\n",
      "use_date_df:          False\n",
      "----------------------------------\n"
     ]
    }
   ],
   "source": [
    "# Flag to either update a df to True to ignore all flags below and instead decipher from the filename\n",
    "# set the parameters here and then just run all the below cells sequentially.\n",
    "indices = {'SPX', 'VIX'}\n",
    "\n",
    "if is_update:\n",
    "    existing_df = pd.read_pickle(f'../../dfs/{file_name}')\n",
    "    existing_df.info()\n",
    "    parameters = decipher_filename(file_name)\n",
    "    bar_size = parameters[0]\n",
    "    underlying_symbol = parameters[1]\n",
    "    underlying_type = parameters[2]\n",
    "    underlying_exchange = parameters[3]\n",
    "    duration = parameters[4]\n",
    "    get_iv_data = parameters[5]\n",
    "    use_rth = parameters[6]\n",
    "    use_vix = parameters[7]\n",
    "    duration, end_date_time = get_missing_days(existing_df)\n",
    "    if 'min' in bar_size or 'hr' in bar_size:\n",
    "        use_date_df = True\n",
    "    else:\n",
    "        use_date_df = False\n",
    "    show(bar_size, underlying_symbol, underlying_type, underlying_exchange,\n",
    "         duration, get_iv_data, use_rth, use_vix, end_date_time, use_date_df)\n",
    "else:\n",
    "    show(bar_size, underlying_symbol, underlying_type, underlying_exchange,\n",
    "         duration, get_iv_data, use_rth, use_vix)"
   ]
  },
  {
   "cell_type": "code",
   "execution_count": 67,
   "id": "f63cd9b8",
   "metadata": {},
   "outputs": [],
   "source": [
    "# create the underlying contract objects based on the above inputs\n",
    "if underlying_type == 'STK':\n",
    "    underlying = Stock(underlying_symbol, underlying_exchange, 'USD')\n",
    "elif underlying_type == 'IND':\n",
    "    underlying = Index(underlying_symbol, underlying_exchange)\n",
    "    if underlying_symbol == 'SPX' and get_iv_data and use_vix:\n",
    "        vix = Index('VIX', 'CBOE')\n",
    "else:\n",
    "    print(\"ERROR: INVALID INPUT(S)!\")"
   ]
  },
  {
   "cell_type": "code",
   "execution_count": 62,
   "id": "bd10db5b",
   "metadata": {},
   "outputs": [],
   "source": [
    "if not is_update:\n",
    "    today = str(datetime.now().date()).replace('-', '')\n",
    "    end_date_time = f\"{today} 24:00:00 EST\"\n",
    "\n",
    "    stripped_duration = duration.replace(' ', '')  # max is unchanged, which is as intended.\n",
    "    stripped_barsize = bar_size.replace(' ', '')\n",
    "    iv = '_iv' if get_iv_data else ''\n",
    "    rth = '_rth' if use_rth else '_nonrth'\n",
    "\n",
    "    if duration == 'MAX':\n",
    "        if bar_size == '1 min':\n",
    "            print(\"WARNING: MAX DURATION WITH 1 MIN DATA DETECTED. THIS MAY BE TOO MANY DATA TO RETRIEVE!\")\n",
    "        earliest_timestamp = get_earliest_timestamp()\n",
    "        duration = calc_duration(earliest_timestamp)\n",
    "\n",
    "    file_name = f'{stripped_barsize}_{underlying_symbol}_{stripped_duration}{iv}{rth}.pkl'.lower()"
   ]
  },
  {
   "cell_type": "code",
   "execution_count": 63,
   "id": "08ea18f0",
   "metadata": {
    "scrolled": true
   },
   "outputs": [],
   "source": [
    "# pull 1 D bars to get the valid trading days.\n",
    "if use_date_df:\n",
    "    bars = ib.reqHistoricalData(underlying, endDateTime=end_date_time, durationStr=duration,\n",
    "                                barSizeSetting='1 day',whatToShow='TRADES', useRTH=use_rth)\n",
    "    ib.sleep(1)\n",
    "    date_df = pd.DataFrame(bars)\n",
    "    print(date_df)"
   ]
  },
  {
   "cell_type": "code",
   "execution_count": 68,
   "id": "87309985",
   "metadata": {
    "scrolled": false
   },
   "outputs": [
    {
     "name": "stdout",
     "output_type": "stream",
     "text": [
      "          date     open     high      low    close\n",
      "0   2022-01-25  4366.64  4411.01  4287.11  4356.45\n",
      "1   2022-01-26  4408.43  4453.23  4304.80  4349.93\n",
      "2   2022-01-27  4380.58  4428.74  4309.50  4326.51\n",
      "3   2022-01-28  4336.19  4432.72  4292.46  4431.85\n",
      "4   2022-01-31  4431.79  4516.89  4414.02  4515.55\n",
      "5   2022-02-01  4519.57  4550.49  4483.53  4546.54\n",
      "6   2022-02-02  4566.39  4595.31  4544.32  4589.38\n",
      "7   2022-02-03  4535.41  4542.88  4470.39  4477.44\n",
      "8   2022-02-04  4482.79  4539.66  4451.50  4500.53\n",
      "9   2022-02-07  4505.75  4521.86  4471.47  4483.87\n",
      "10  2022-02-08  4480.02  4531.32  4465.40  4521.54\n",
      "11  2022-02-09  4547.00  4590.03  4547.00  4587.18\n",
      "12  2022-02-10  4553.24  4588.92  4484.31  4504.08\n",
      "13  2022-02-11  4506.27  4526.33  4401.41  4418.64\n",
      "14  2022-02-14  4412.61  4426.22  4364.84  4401.67\n",
      "15  2022-02-15  4429.28  4472.77  4429.28  4471.07\n",
      "16  2022-02-16  4455.75  4489.55  4429.68  4475.01\n",
      "17  2022-02-17  4456.06  4456.06  4373.81  4380.26\n",
      "18  2022-02-18  4384.57  4394.60  4327.22  4348.87\n",
      "-------------------\n",
      "          date    open    high     low   close\n",
      "0   2022-01-25  0.3229  0.3585  0.2913  0.3116\n",
      "1   2022-01-26  0.2935  0.3304  0.2690  0.3196\n",
      "2   2022-01-27  0.3219  0.3300  0.2842  0.3049\n",
      "3   2022-01-28  0.3027  0.3282  0.2728  0.2766\n",
      "4   2022-01-31  0.2836  0.2941  0.2471  0.2483\n",
      "5   2022-02-01  0.2457  0.2533  0.2196  0.2196\n",
      "6   2022-02-02  0.2156  0.2273  0.2046  0.2209\n",
      "7   2022-02-03  0.2263  0.2581  0.2230  0.2435\n",
      "8   2022-02-04  0.2377  0.2626  0.2207  0.2322\n",
      "9   2022-02-07  0.2409  0.2482  0.2202  0.2286\n",
      "10  2022-02-08  0.2309  0.2348  0.2132  0.2144\n",
      "11  2022-02-09  0.2127  0.2130  0.1993  0.1996\n",
      "12  2022-02-10  0.2037  0.2477  0.2018  0.2391\n",
      "13  2022-02-11  0.2439  0.3099  0.2333  0.2736\n",
      "14  2022-02-14  0.2917  0.3204  0.2833  0.2833\n",
      "15  2022-02-15  0.2809  0.2809  0.2533  0.2570\n",
      "16  2022-02-16  0.2519  0.2709  0.2388  0.2429\n",
      "17  2022-02-17  0.2483  0.2837  0.2476  0.2811\n",
      "18  2022-02-18  0.2666  0.2971  0.2638  0.2775\n"
     ]
    }
   ],
   "source": [
    "\"\"\"\n",
    "request the actual underlying data, then, if getting iv data, request that as well.\n",
    "\"\"\"\n",
    "if use_date_df:\n",
    "    price_bars = []\n",
    "    for date in date_df['date']:\n",
    "        date = str(date).replace('-', '')\n",
    "        date = f\"{date} 24:00:00 EST\"\n",
    "        bars = ib.reqHistoricalData(underlying, endDateTime=date, durationStr='1 D',\n",
    "                                    barSizeSetting=bar_size ,whatToShow='TRADES', useRTH=use_rth)\n",
    "        ib.sleep(5)  # might need to increase this to 5s or 15s to avoid exceeding rate limit\n",
    "        price_bars.append(bars)\n",
    "\n",
    "    price_df = pd.DataFrame(*price_bars)\n",
    "    price_df.drop(['volume', 'average', 'barCount'], axis=1, inplace=True)\n",
    "    print(price_df)\n",
    "\n",
    "    if get_iv_data:\n",
    "        print('-------------------')\n",
    "        # automatically run this here to grab both in one cell\n",
    "        if underlying_symbol == 'SPX' and get_iv_data and use_vix:\n",
    "            underlying = vix\n",
    "            what_to_show = 'TRADES'\n",
    "            scale_down = True\n",
    "        else:\n",
    "            # underlying is unchanged from above, just grab IV using what_to_show below\n",
    "            what_to_show = 'OPTION_IMPLIED_VOLATILITY'\n",
    "            scale_down = False\n",
    "        iv_bars = []\n",
    "        for date in date_df['date']:\n",
    "            date = str(date).replace('-', '')\n",
    "            date = f\"{date} 24:00:00 EST\"\n",
    "            bars = ib.reqHistoricalData(underlying, endDateTime=date, durationStr='1 D',\n",
    "                                        barSizeSetting=bar_size ,whatToShow=what_to_show,\n",
    "                                        useRTH=use_rth)\n",
    "            ib.sleep(5)\n",
    "            iv_bars.append(bars)\n",
    "\n",
    "        iv_df = pd.DataFrame(*iv_bars)\n",
    "        iv_df.drop(['volume', 'average', 'barCount'], axis=1, inplace=True)\n",
    "        if scale_down:\n",
    "            # VIX data are on a /100 basis. OPTION_IMPLIED_VOLATILITY is decimal. Scale VIX down to match:\n",
    "            iv_df['open'] /= 100\n",
    "            iv_df['high'] /= 100\n",
    "            iv_df['low'] /= 100\n",
    "            iv_df['close'] /= 100\n",
    "        print(iv_df)\n",
    "else:\n",
    "    price_bars = ib.reqHistoricalData(underlying, endDateTime=end_date_time, durationStr=duration,\n",
    "                                      barSizeSetting=bar_size ,whatToShow='TRADES', useRTH=use_rth)\n",
    "    ib.sleep(5)\n",
    "    price_df = pd.DataFrame(price_bars)\n",
    "    price_df.drop(['volume', 'average', 'barCount'], axis=1, inplace=True)\n",
    "    print(price_df)\n",
    "    if get_iv_data:\n",
    "        print('-------------------')\n",
    "        if underlying_symbol == 'SPX' and get_iv_data and use_vix:\n",
    "            underlying = vix\n",
    "            what_to_show = 'TRADES'\n",
    "            scale_down = True\n",
    "        else:\n",
    "            what_to_show = 'OPTION_IMPLIED_VOLATILITY'\n",
    "            scale_down = False\n",
    "        iv_bars = ib.reqHistoricalData(underlying, endDateTime=end_date_time, durationStr=duration,\n",
    "                                       barSizeSetting=bar_size ,whatToShow=what_to_show, useRTH=use_rth)\n",
    "        ib.sleep(5)\n",
    "        iv_df = pd.DataFrame(iv_bars)\n",
    "        iv_df.drop(['volume', 'average', 'barCount'], axis=1, inplace=True)\n",
    "        if scale_down:\n",
    "            iv_df['open'] /= 100\n",
    "            iv_df['high'] /= 100\n",
    "            iv_df['low'] /= 100\n",
    "            iv_df['close'] /= 100\n",
    "        print(iv_df)"
   ]
  },
  {
   "cell_type": "code",
   "execution_count": 70,
   "id": "fac72c73",
   "metadata": {},
   "outputs": [
    {
     "name": "stdout",
     "output_type": "stream",
     "text": [
      "19\n",
      "19\n"
     ]
    }
   ],
   "source": [
    "print(len(price_df))\n",
    "if get_iv_data:\n",
    "    # rename columns to avoid issues when merging the dfs below\n",
    "    iv_df.rename(columns={\"open\": \"iv_open\", \"high\": \"iv_high\", \"low\": \"iv_low\", \"close\": \"iv_close\"}, inplace=True)\n",
    "    print(len(iv_df))"
   ]
  },
  {
   "cell_type": "code",
   "execution_count": 71,
   "id": "e3152917",
   "metadata": {},
   "outputs": [
    {
     "name": "stdout",
     "output_type": "stream",
     "text": [
      "          date     open     high      low    close\n",
      "0   2022-01-25  4366.64  4411.01  4287.11  4356.45\n",
      "1   2022-01-26  4408.43  4453.23  4304.80  4349.93\n",
      "2   2022-01-27  4380.58  4428.74  4309.50  4326.51\n",
      "3   2022-01-28  4336.19  4432.72  4292.46  4431.85\n",
      "4   2022-01-31  4431.79  4516.89  4414.02  4515.55\n",
      "5   2022-02-01  4519.57  4550.49  4483.53  4546.54\n",
      "6   2022-02-02  4566.39  4595.31  4544.32  4589.38\n",
      "7   2022-02-03  4535.41  4542.88  4470.39  4477.44\n",
      "8   2022-02-04  4482.79  4539.66  4451.50  4500.53\n",
      "9   2022-02-07  4505.75  4521.86  4471.47  4483.87\n",
      "10  2022-02-08  4480.02  4531.32  4465.40  4521.54\n",
      "11  2022-02-09  4547.00  4590.03  4547.00  4587.18\n",
      "12  2022-02-10  4553.24  4588.92  4484.31  4504.08\n",
      "13  2022-02-11  4506.27  4526.33  4401.41  4418.64\n",
      "14  2022-02-14  4412.61  4426.22  4364.84  4401.67\n",
      "15  2022-02-15  4429.28  4472.77  4429.28  4471.07\n",
      "16  2022-02-16  4455.75  4489.55  4429.68  4475.01\n",
      "17  2022-02-17  4456.06  4456.06  4373.81  4380.26\n",
      "18  2022-02-18  4384.57  4394.60  4327.22  4348.87\n",
      "          date  iv_open  iv_high  iv_low  iv_close\n",
      "0   2022-01-25   0.3229   0.3585  0.2913    0.3116\n",
      "1   2022-01-26   0.2935   0.3304  0.2690    0.3196\n",
      "2   2022-01-27   0.3219   0.3300  0.2842    0.3049\n",
      "3   2022-01-28   0.3027   0.3282  0.2728    0.2766\n",
      "4   2022-01-31   0.2836   0.2941  0.2471    0.2483\n",
      "5   2022-02-01   0.2457   0.2533  0.2196    0.2196\n",
      "6   2022-02-02   0.2156   0.2273  0.2046    0.2209\n",
      "7   2022-02-03   0.2263   0.2581  0.2230    0.2435\n",
      "8   2022-02-04   0.2377   0.2626  0.2207    0.2322\n",
      "9   2022-02-07   0.2409   0.2482  0.2202    0.2286\n",
      "10  2022-02-08   0.2309   0.2348  0.2132    0.2144\n",
      "11  2022-02-09   0.2127   0.2130  0.1993    0.1996\n",
      "12  2022-02-10   0.2037   0.2477  0.2018    0.2391\n",
      "13  2022-02-11   0.2439   0.3099  0.2333    0.2736\n",
      "14  2022-02-14   0.2917   0.3204  0.2833    0.2833\n",
      "15  2022-02-15   0.2809   0.2809  0.2533    0.2570\n",
      "16  2022-02-16   0.2519   0.2709  0.2388    0.2429\n",
      "17  2022-02-17   0.2483   0.2837  0.2476    0.2811\n",
      "18  2022-02-18   0.2666   0.2971  0.2638    0.2775\n"
     ]
    }
   ],
   "source": [
    "print(price_df)\n",
    "print(iv_df)"
   ]
  },
  {
   "cell_type": "code",
   "execution_count": 72,
   "id": "c6ba3675",
   "metadata": {},
   "outputs": [
    {
     "name": "stdout",
     "output_type": "stream",
     "text": [
      "            date     open     high      low    close  ...   max_vol    max_up  \\\n",
      "0     2005-10-03  1230.03  1233.35  1225.12  1226.95  ...  2.098936  0.002699   \n",
      "1     2005-10-04  1227.19  1229.87  1214.08  1214.36  ...  4.050964  0.002184   \n",
      "2     2005-10-05  1214.16  1214.28  1196.29  1196.29  ...  4.679312  0.000099   \n",
      "3     2005-10-06  1196.68  1202.09  1181.89  1191.16  ...  5.312779  0.004521   \n",
      "4     2005-10-07  1193.89  1199.76  1191.45  1196.17  ...  2.178952  0.004917   \n",
      "...          ...      ...      ...      ...      ...  ...       ...       ...   \n",
      "4110  2022-02-14  4412.61  4426.22  4364.84  4401.67  ...  4.377793  0.003084   \n",
      "4111  2022-02-15  4429.28  4472.77  4429.28  4471.07  ...  3.063130  0.009819   \n",
      "4112  2022-02-16  4455.75  4489.55  4429.68  4475.01  ...  4.208729  0.007586   \n",
      "4113  2022-02-17  4456.06  4456.06  4373.81  4380.26  ...  5.840590  0.000000   \n",
      "4114  2022-02-18  4384.57  4394.60  4327.22  4348.87  ...  4.843899  0.002288   \n",
      "\n",
      "      max_down  peak_move  day  \n",
      "0    -0.003992  -0.003992    0  \n",
      "1    -0.010683  -0.010683    1  \n",
      "2    -0.014718  -0.014718    2  \n",
      "3    -0.012359  -0.012359    3  \n",
      "4    -0.002044   0.004917    4  \n",
      "...        ...        ...  ...  \n",
      "4110 -0.010826  -0.010826    0  \n",
      "4111  0.000000   0.009819    1  \n",
      "4112 -0.005851   0.007586    2  \n",
      "4113 -0.018458  -0.018458    3  \n",
      "4114 -0.013080  -0.013080    4  \n",
      "\n",
      "[4109 rows x 24 columns]\n"
     ]
    }
   ],
   "source": [
    "# merge the two DFs and drop duplicate rows\n",
    "if get_iv_data:\n",
    "    new_df = pd.merge(price_df, iv_df, on='date')\n",
    "else:\n",
    "    new_df = price_df\n",
    "if is_update:\n",
    "    df = existing_df.append(new_df)\n",
    "    df.reset_index(inplace=True, drop=True)\n",
    "    df.drop_duplicates(subset=['date'], inplace=True)\n",
    "else:\n",
    "    df = new_df\n",
    "if recalculate_columns:\n",
    "    df = recalculate_column_values(df)\n",
    "print(df)"
   ]
  },
  {
   "cell_type": "code",
   "execution_count": 73,
   "id": "62b1a4e6",
   "metadata": {},
   "outputs": [
    {
     "name": "stdout",
     "output_type": "stream",
     "text": [
      "<class 'pandas.core.frame.DataFrame'>\n",
      "Int64Index: 4109 entries, 0 to 4114\n",
      "Data columns (total 24 columns):\n",
      " #   Column          Non-Null Count  Dtype  \n",
      "---  ------          --------------  -----  \n",
      " 0   date            4109 non-null   object \n",
      " 1   open            4109 non-null   float64\n",
      " 2   high            4109 non-null   float64\n",
      " 3   low             4109 non-null   float64\n",
      " 4   close           4109 non-null   float64\n",
      " 5   iv_open         4109 non-null   float64\n",
      " 6   iv_high         4109 non-null   float64\n",
      " 7   iv_low          4109 non-null   float64\n",
      " 8   iv_close        4109 non-null   float64\n",
      " 9   prev_close      4108 non-null   float64\n",
      " 10  iv_prev_close   4108 non-null   float64\n",
      " 11  open_close      4109 non-null   float64\n",
      " 12  close_close     4108 non-null   float64\n",
      " 13  close_open      4108 non-null   float64\n",
      " 14  iv_open_close   4109 non-null   float64\n",
      " 15  iv_close_close  4108 non-null   float64\n",
      " 16  iv_close_open   4108 non-null   float64\n",
      " 17  real_vol        4109 non-null   float64\n",
      " 18  previous_vol    4108 non-null   float64\n",
      " 19  max_vol         4109 non-null   float64\n",
      " 20  max_up          4109 non-null   float64\n",
      " 21  max_down        4109 non-null   float64\n",
      " 22  peak_move       4109 non-null   float64\n",
      " 23  day             4109 non-null   int64  \n",
      "dtypes: float64(22), int64(1), object(1)\n",
      "memory usage: 802.5+ KB\n"
     ]
    }
   ],
   "source": [
    "df.info()"
   ]
  },
  {
   "cell_type": "code",
   "execution_count": 74,
   "id": "ccf91a69",
   "metadata": {},
   "outputs": [
    {
     "data": {
      "text/plain": [
       "<AxesSubplot:xlabel='date'>"
      ]
     },
     "execution_count": 74,
     "metadata": {},
     "output_type": "execute_result"
    },
    {
     "data": {
      "image/png": "[encoded data removed]",
      "text/plain": [
       "<Figure size 432x288 with 1 Axes>"
      ]
     },
     "metadata": {
      "needs_background": "light"
     },
     "output_type": "display_data"
    },
    {
     "data": {
      "image/png": "[encoded data removed]",
      "text/plain": [
       "<Figure size 432x288 with 1 Axes>"
      ]
     },
     "metadata": {
      "needs_background": "light"
     },
     "output_type": "display_data"
    }
   ],
   "source": [
    "# plot the underlying and iv to visually identify any issues\n",
    "df.plot('date', 'open')\n",
    "df.plot('date', 'iv_open')\n",
    "\n",
    "# below are for 1 min bar size\n",
    "# df.iloc[:390].plot('date', 'open')\n",
    "# df.iloc[:390].plot('date', 'iv_open')\n",
    "# df.iloc[-390:].plot('date', 'open')\n",
    "# df.iloc[-390:].plot('date', 'iv_open')"
   ]
  },
  {
   "cell_type": "code",
   "execution_count": 81,
   "id": "5756442a",
   "metadata": {},
   "outputs": [
    {
     "name": "stdout",
     "output_type": "stream",
     "text": [
      "Empty DataFrame\n",
      "Columns: [date]\n",
      "Index: []\n"
     ]
    }
   ],
   "source": [
    "# programmatically test for errors, checking for gaps > 5 days.\n",
    "delta = pd.Timedelta(days=5)\n",
    "pf = df.copy()\n",
    "pf['gap'] = (pf['date'] > pf['date'].shift(1) + delta)\n",
    "idx = pf[pf['gap'] == True].index\n",
    "print(pf.iloc[idx][['date']])"
   ]
  },
  {
   "cell_type": "code",
   "execution_count": 78,
   "id": "36202ee9",
   "metadata": {},
   "outputs": [
    {
     "data": {
      "image/png": "[encoded data removed]",
      "text/plain": [
       "<Figure size 432x288 with 1 Axes>"
      ]
     },
     "metadata": {
      "needs_background": "light"
     },
     "output_type": "display_data"
    }
   ],
   "source": [
    "if is_update:\n",
    "    # ensure no jumps exist where the new df was appended.\n",
    "    days_missing = int(duration.split(' ')[0])  # turn  string of 'x D' to just grab the int, x.\n",
    "    df.iloc[-(days_missing+10):].plot('date', 'open')"
   ]
  },
  {
   "cell_type": "code",
   "execution_count": 80,
   "id": "b16786fc",
   "metadata": {},
   "outputs": [
    {
     "name": "stdout",
     "output_type": "stream",
     "text": [
      "last saved on 2022-02-20, filename: 1day_spx_max_iv_rth.pkl\n"
     ]
    }
   ],
   "source": [
    "df.to_pickle(f'../../dfs/{file_name}')\n",
    "ib.disconnect()  # disconnect from IB\n",
    "print(f'last saved on {datetime.now().date()}, filename: {file_name}')"
   ]
  },
  {
   "cell_type": "code",
   "execution_count": 414,
   "id": "878a7a8c",
   "metadata": {},
   "outputs": [],
   "source": []
  },
  {
   "cell_type": "code",
   "execution_count": null,
   "id": "22a56963",
   "metadata": {},
   "outputs": [],
   "source": []
  },
  {
   "cell_type": "code",
   "execution_count": null,
   "id": "a133eec7",
   "metadata": {},
   "outputs": [],
   "source": []
  }
 ],
 "metadata": {
  "kernelspec": {
   "display_name": "Python 3 (ipykernel)",
   "language": "python",
   "name": "python3"
  },
  "language_info": {
   "codemirror_mode": {
    "name": "ipython",
    "version": 3
   },
   "file_extension": ".py",
   "mimetype": "text/x-python",
   "name": "python",
   "nbconvert_exporter": "python",
   "pygments_lexer": "ipython3",
   "version": "3.9.7"
  }
 },
 "nbformat": 4,
 "nbformat_minor": 5
}
